{
 "cells": [
  {
   "cell_type": "markdown",
   "source": [
    "[![Open In Colab](https://colab.research.google.com/assets/colab-badge.svg)](https://colab.research.google.com/github/dakimura/jquants-sample/blob/main/data_retrieve.ipynb)"
   ],
   "metadata": {
    "collapsed": false,
    "pycharm": {
     "name": "#%% md\n"
    }
   }
  },
  {
   "cell_type": "markdown",
   "metadata": {
    "collapsed": true,
    "pycharm": {
     "name": "#%% md\n"
    }
   },
   "source": [
    "# J-Quantsチュートリアル用データ取得\n",
    "\n",
    "本ノートブックでは、J-Quantsチュートリアルセミナーに先立って\n",
    "セミナーで必要となる株価・財務情報データをJ-Quants APIを使用して取得し、\n",
    "ローカルホストに保存するところまでを行います。\n",
    "本ノートブックの動作確認環境はpyproject.tomlを参照ください。\n",
    "TODO: Google Colab上での動作確認\n"
   ]
  },
  {
   "cell_type": "markdown",
   "source": [
    "## J-Quants API\n",
    "J-Quants APIにアクセスするためには [J-Quants API の Web サイト](https://application.jpx-jquants.com/) から取得できるリフレッシュトークンが必要になります。\n",
    "会員登録とリフレッシュトークンの取得を完了させてから次に進みます。"
   ],
   "metadata": {
    "collapsed": false,
    "pycharm": {
     "name": "#%% md\n"
    }
   }
  },
  {
   "cell_type": "markdown",
   "source": [
    "必要なライブラリのinstall/importと設定を行います。"
   ],
   "metadata": {
    "collapsed": false,
    "pycharm": {
     "name": "#%% md\n"
    }
   }
  },
  {
   "cell_type": "code",
   "execution_count": 1,
   "outputs": [
    {
     "name": "stdout",
     "output_type": "stream",
     "text": [
      "Requirement already satisfied: numpy in /Users/dakimura/Library/Caches/pypoetry/virtualenvs/jquants-sample-WjxObdxd-py3.9/lib/python3.9/site-packages (1.23.2)\r\n",
      "Requirement already satisfied: jquants-api-client==0.1.2 in /Users/dakimura/Library/Caches/pypoetry/virtualenvs/jquants-sample-WjxObdxd-py3.9/lib/python3.9/site-packages (0.1.2)\r\n",
      "Requirement already satisfied: urllib3<2.0.0,>=1.24.3 in /Users/dakimura/Library/Caches/pypoetry/virtualenvs/jquants-sample-WjxObdxd-py3.9/lib/python3.9/site-packages (from jquants-api-client==0.1.2) (1.26.12)\r\n",
      "Requirement already satisfied: pandas<2.0.0,>=1.4.3 in /Users/dakimura/Library/Caches/pypoetry/virtualenvs/jquants-sample-WjxObdxd-py3.9/lib/python3.9/site-packages (from jquants-api-client==0.1.2) (1.4.3)\r\n",
      "Requirement already satisfied: types-requests<3.0.0,>=2.28.5 in /Users/dakimura/Library/Caches/pypoetry/virtualenvs/jquants-sample-WjxObdxd-py3.9/lib/python3.9/site-packages (from jquants-api-client==0.1.2) (2.28.9)\r\n",
      "Requirement already satisfied: requests<3.0.0,>=2.23.0 in /Users/dakimura/Library/Caches/pypoetry/virtualenvs/jquants-sample-WjxObdxd-py3.9/lib/python3.9/site-packages (from jquants-api-client==0.1.2) (2.28.1)\r\n",
      "Requirement already satisfied: types-python-dateutil<3.0.0,>=2.8.19 in /Users/dakimura/Library/Caches/pypoetry/virtualenvs/jquants-sample-WjxObdxd-py3.9/lib/python3.9/site-packages (from jquants-api-client==0.1.2) (2.8.19)\r\n",
      "Requirement already satisfied: pytz>=2020.1 in /Users/dakimura/Library/Caches/pypoetry/virtualenvs/jquants-sample-WjxObdxd-py3.9/lib/python3.9/site-packages (from pandas<2.0.0,>=1.4.3->jquants-api-client==0.1.2) (2022.2.1)\r\n",
      "Requirement already satisfied: python-dateutil>=2.8.1 in /Users/dakimura/Library/Caches/pypoetry/virtualenvs/jquants-sample-WjxObdxd-py3.9/lib/python3.9/site-packages (from pandas<2.0.0,>=1.4.3->jquants-api-client==0.1.2) (2.8.2)\r\n",
      "Requirement already satisfied: idna<4,>=2.5 in /Users/dakimura/Library/Caches/pypoetry/virtualenvs/jquants-sample-WjxObdxd-py3.9/lib/python3.9/site-packages (from requests<3.0.0,>=2.23.0->jquants-api-client==0.1.2) (3.3)\r\n",
      "Requirement already satisfied: charset-normalizer<3,>=2 in /Users/dakimura/Library/Caches/pypoetry/virtualenvs/jquants-sample-WjxObdxd-py3.9/lib/python3.9/site-packages (from requests<3.0.0,>=2.23.0->jquants-api-client==0.1.2) (2.1.1)\r\n",
      "Requirement already satisfied: certifi>=2017.4.17 in /Users/dakimura/Library/Caches/pypoetry/virtualenvs/jquants-sample-WjxObdxd-py3.9/lib/python3.9/site-packages (from requests<3.0.0,>=2.23.0->jquants-api-client==0.1.2) (2022.6.15)\r\n",
      "Requirement already satisfied: types-urllib3<1.27 in /Users/dakimura/Library/Caches/pypoetry/virtualenvs/jquants-sample-WjxObdxd-py3.9/lib/python3.9/site-packages (from types-requests<3.0.0,>=2.28.5->jquants-api-client==0.1.2) (1.26.23)\r\n",
      "Requirement already satisfied: six>=1.5 in /Users/dakimura/Library/Caches/pypoetry/virtualenvs/jquants-sample-WjxObdxd-py3.9/lib/python3.9/site-packages (from python-dateutil>=2.8.1->pandas<2.0.0,>=1.4.3->jquants-api-client==0.1.2) (1.16.0)\r\n",
      "\u001B[33mWARNING: You are using pip version 22.0.3; however, version 22.2.2 is available.\r\n",
      "You should consider upgrading via the '/Users/dakimura/Library/Caches/pypoetry/virtualenvs/jquants-sample-WjxObdxd-py3.9/bin/python -m pip install --upgrade pip' command.\u001B[0m\u001B[33m\r\n",
      "\u001B[0m"
     ]
    }
   ],
   "source": [
    "!pip install numpy jquants-api-client==0.1.2\n",
    "\n",
    "import getpass\n",
    "from requests import HTTPError\n",
    "from datetime import datetime\n",
    "\n",
    "import jquantsapi\n",
    "import pandas as pd\n",
    "import numpy as np\n",
    "from dateutil import tz\n",
    "\n",
    "# --- コンフィグ ---\n",
    "# データを保存するGoogleドライブ上のディレクトリ\n",
    "# STORAGE_DIR_PATH = \"/content/drive/MyDrive/drive_ws/marketdata\"\n",
    "# デバッグ中\n",
    "STORAGE_DIR_PATH = \"/tmp/marketdata\"\n",
    "# CSVデータを保存するファイルパス\n",
    "stock_fins_csvfile_path = STORAGE_DIR_PATH + \"/stock_fin_debug.csv\"\n",
    "stock_price_csvfile_path = STORAGE_DIR_PATH + \"/stock_price_debug.csv\"\n",
    "\n",
    "# J-Quants API から取得するデータの期間\n",
    "#start_dt: datetime = datetime(2017, 1, 1, tzinfo=tz.gettz(\"Asia/Tokyo\"))\n",
    "# デバッグ中\n",
    "start_dt: datetime = datetime(2022, 7, 24, tzinfo=tz.gettz(\"Asia/Tokyo\"))\n",
    "\n",
    "end_dt: datetime = datetime(2022, 7, 31, tzinfo=tz.gettz(\"Asia/Tokyo\"))"
   ],
   "metadata": {
    "collapsed": false,
    "pycharm": {
     "name": "#%%\n"
    }
   }
  },
  {
   "cell_type": "markdown",
   "source": [
    "https://application.jpx-jquants.com/ から取得したJ-Quants APIのリフレッシュトークンを入力してください。\n",
    "TODO: リフレッシュトークン取得APIに対応する。ID/Passwordは環境変数にでも設定してもらうようにする？"
   ],
   "metadata": {
    "collapsed": false,
    "pycharm": {
     "name": "#%% md\n"
    }
   }
  },
  {
   "cell_type": "code",
   "execution_count": 2,
   "outputs": [
    {
     "name": "stdout",
     "output_type": "stream",
     "text": [
      "refresh_tokenは正常です。次の手順に進んでください。\n"
     ]
    }
   ],
   "source": [
    "refresh_token = getpass.getpass(prompt=\"J-Quants Refresh Token:\")\n",
    "# リフレッシュトークンを使用できるか検証します。\n",
    "test_cli = jquantsapi.Client(refresh_token=refresh_token)\n",
    "try:\n",
    "    id_token = test_cli.get_id_token()\n",
    "    if len(id_token) > 0:\n",
    "        print(\"refresh_tokenは正常です。次の手順に進んでください。\")\n",
    "except HTTPError:\n",
    "    print(\"refresh_tokenを使用できません。再度値を確認してください。\")"
   ],
   "metadata": {
    "collapsed": false,
    "pycharm": {
     "name": "#%%\n"
    }
   }
  },
  {
   "cell_type": "markdown",
   "source": [
    "データ取得期間(start_dt <= 時刻 <= end_dt) の全銘柄の価格と財務情報データを取得します。\n",
    "このステップの実行には環境によって数十分ほど時間がかかります。"
   ],
   "metadata": {
    "collapsed": false,
    "pycharm": {
     "name": "#%% md\n"
    }
   }
  },
  {
   "cell_type": "code",
   "execution_count": 14,
   "outputs": [],
   "source": [
    "cli = jquantsapi.Client(refresh_token=refresh_token)\n",
    "stock_price: pd.DataFrame = cli.get_price_range(start_dt=start_dt, end_dt=end_dt)\n",
    "stock_fin: pd.DataFrame = cli.get_statements_range(start_dt=start_dt, end_dt=end_dt)"
   ],
   "metadata": {
    "collapsed": false,
    "pycharm": {
     "name": "#%%\n"
    }
   }
  },
  {
   "cell_type": "markdown",
   "source": [
    "取得したデータをCSV形式で保存します。"
   ],
   "metadata": {
    "collapsed": false,
    "pycharm": {
     "name": "#%% md\n"
    }
   }
  },
  {
   "cell_type": "code",
   "execution_count": 40,
   "outputs": [],
   "source": [
    "pd.to_csv(stock_price, stock_price_csvfile_path)\n",
    "pd.to_csv(stock_fin, stock_fins_csvfile_path)"
   ],
   "metadata": {
    "collapsed": false,
    "pycharm": {
     "name": "#%%\n"
    }
   }
  },
  {
   "cell_type": "markdown",
   "source": [
    "このnotebookはデータ保存までで終了です。predictor.ipynbに進みましょう。"
   ],
   "metadata": {
    "collapsed": false,
    "pycharm": {
     "name": "#%% md\n"
    }
   }
  }
 ],
 "metadata": {
  "kernelspec": {
   "display_name": "Python 3",
   "language": "python",
   "name": "python3"
  },
  "language_info": {
   "codemirror_mode": {
    "name": "ipython",
    "version": 2
   },
   "file_extension": ".py",
   "mimetype": "text/x-python",
   "name": "python",
   "nbconvert_exporter": "python",
   "pygments_lexer": "ipython2",
   "version": "2.7.6"
  }
 },
 "nbformat": 4,
 "nbformat_minor": 0
}
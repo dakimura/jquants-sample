{
  "cells": [
    {
      "cell_type": "markdown",
      "source": [
        "[![Open In Colab](https://colab.research.google.com/assets/colab-badge.svg)](https://colab.research.google.com/github/dakimura/jquants-sample/blob/main/data_retrieve.ipynb)"
      ],
      "metadata": {
        "collapsed": false,
        "pycharm": {
          "name": "#%% md\n"
        },
        "id": "EliGb_8tGJva"
      }
    },
    {
      "cell_type": "markdown",
      "metadata": {
        "collapsed": true,
        "pycharm": {
          "name": "#%% md\n"
        },
        "id": "3CyAgtw7GJvc"
      },
      "source": [
        "# J-Quants APIを用いた分析用データ取得\n",
        "\n",
        "本ノートブックでは、データ分析に先立って\n",
        "分析で必要となる株価・財務情報データをJ-Quants APIを使用して取得し、\n",
        "保存するところまでを行います。\n",
        "Google Colab上で動作確認を行っています。\n"
      ]
    },
    {
      "cell_type": "markdown",
      "source": [
        "## J-Quants API\n",
        "J-Quants APIを利用するためには [J-Quants API の Web サイト](https://application.jpx-jquants.com/) から取得できるリフレッシュトークンが必要になります。\n",
        "会員登録とリフレッシュトークンの取得を完了させてから次に進みます。"
      ],
      "metadata": {
        "collapsed": false,
        "pycharm": {
          "name": "#%% md\n"
        },
        "id": "XKtXotmbGJvc"
      }
    },
    {
      "cell_type": "markdown",
      "source": [
        "必要なライブラリのinstall/importと設定を行います。"
      ],
      "metadata": {
        "collapsed": false,
        "pycharm": {
          "name": "#%% md\n"
        },
        "id": "yW05JPyuGJvd"
      }
    },
    {
      "cell_type": "code",
      "execution_count": 3,
      "outputs": [
        {
          "output_type": "stream",
          "name": "stdout",
          "text": [
            "Looking in indexes: https://pypi.org/simple, https://us-python.pkg.dev/colab-wheels/public/simple/\n",
            "Requirement already satisfied: numpy in /usr/local/lib/python3.7/dist-packages (1.21.6)\n",
            "Requirement already satisfied: pandas in /usr/local/lib/python3.7/dist-packages (1.3.5)\n",
            "Requirement already satisfied: requests in /usr/local/lib/python3.7/dist-packages (2.23.0)\n",
            "Requirement already satisfied: jquants-api-client==0.1.2 in /usr/local/lib/python3.7/dist-packages (0.1.2)\n",
            "Requirement already satisfied: urllib3<2.0.0,>=1.24.3 in /usr/local/lib/python3.7/dist-packages (from jquants-api-client==0.1.2) (1.24.3)\n",
            "Requirement already satisfied: types-requests<3.0.0,>=2.28.5 in /usr/local/lib/python3.7/dist-packages (from jquants-api-client==0.1.2) (2.28.9)\n",
            "Requirement already satisfied: types-python-dateutil<3.0.0,>=2.8.19 in /usr/local/lib/python3.7/dist-packages (from jquants-api-client==0.1.2) (2.8.19)\n",
            "Requirement already satisfied: pytz>=2017.3 in /usr/local/lib/python3.7/dist-packages (from pandas) (2022.2.1)\n",
            "Requirement already satisfied: python-dateutil>=2.7.3 in /usr/local/lib/python3.7/dist-packages (from pandas) (2.8.2)\n",
            "Requirement already satisfied: certifi>=2017.4.17 in /usr/local/lib/python3.7/dist-packages (from requests) (2022.6.15)\n",
            "Requirement already satisfied: chardet<4,>=3.0.2 in /usr/local/lib/python3.7/dist-packages (from requests) (3.0.4)\n",
            "Requirement already satisfied: idna<3,>=2.5 in /usr/local/lib/python3.7/dist-packages (from requests) (2.10)\n",
            "Requirement already satisfied: six>=1.5 in /usr/local/lib/python3.7/dist-packages (from python-dateutil>=2.7.3->pandas) (1.15.0)\n",
            "Requirement already satisfied: types-urllib3<1.27 in /usr/local/lib/python3.7/dist-packages (from types-requests<3.0.0,>=2.28.5->jquants-api-client==0.1.2) (1.26.23)\n"
          ]
        }
      ],
      "source": [
        "!pip install numpy pandas requests jquants-api-client==0.1.2\n",
        "\n",
        "import getpass\n",
        "from requests import HTTPError\n",
        "from datetime import datetime\n",
        "\n",
        "import jquantsapi\n",
        "import pandas as pd\n",
        "import numpy as np\n",
        "from dateutil import tz\n",
        "\n",
        "# --- コンフィグ ---\n",
        "# Googleドライブをマウントするディレクトリ\n",
        "GOOGLE_DRIVE_MOUNT_DIR_PATH = \"/content/drive/\"\n",
        "\n",
        "# データを保存するGoogleドライブ上のディレクトリ\n",
        "STORAGE_DIR_PATH = \"/content/drive/MyDrive/drive_ws/marketdata\"\n",
        "\n",
        "# 各種CSVデータを保存するファイルパス\n",
        "stock_fins_csvfile_path = STORAGE_DIR_PATH + \"/stock_fin.csv.gz\"\n",
        "stock_price_csvfile_path = STORAGE_DIR_PATH + \"/stock_price.csv.gz\"\n",
        "\n",
        "# J-Quants API から取得するデータの期間\n",
        "start_dt: datetime = datetime(2017, 1, 1)\n",
        "# デバッグ中は短い期間を使う\n",
        "#start_dt: datetime = datetime(2022, 6, 1)\n",
        "\n",
        "end_dt: datetime = datetime(2022, 8, 31)"
      ],
      "metadata": {
        "pycharm": {
          "name": "#%%\n"
        },
        "colab": {
          "base_uri": "https://localhost:8080/"
        },
        "id": "UL4Jo8m2GJvd",
        "outputId": "df694c62-dfcd-4b1e-a8c7-3533a8de0594"
      }
    },
    {
      "cell_type": "code",
      "source": [
        "# Googleドライブをマウント\n",
        "from google.colab import drive\n",
        "drive.mount('/content/drive')"
      ],
      "metadata": {
        "id": "757Ajii9ONBQ",
        "pycharm": {
          "name": "#%%\n"
        },
        "outputId": "a07d792e-64b9-4870-def2-6222c086a506",
        "colab": {
          "base_uri": "https://localhost:8080/"
        }
      },
      "execution_count": 4,
      "outputs": [
        {
          "output_type": "stream",
          "name": "stdout",
          "text": [
            "Mounted at /content/drive\n"
          ]
        }
      ]
    },
    {
      "cell_type": "markdown",
      "source": [
        "入力ボックスに https://application.jpx-jquants.com/ から取得したJ-Quants APIのリフレッシュトークンを入力してください。"
      ],
      "metadata": {
        "collapsed": false,
        "pycharm": {
          "name": "#%% md\n"
        },
        "id": "qgVoql6RGJve"
      }
    },
    {
      "cell_type": "code",
      "execution_count": 5,
      "outputs": [
        {
          "output_type": "stream",
          "name": "stdout",
          "text": [
            "J-Quants Refresh Token:··········\n",
            "refresh_tokenは正常です。次の手順に進んでください。\n"
          ]
        }
      ],
      "source": [
        "refresh_token = getpass.getpass(prompt=\"J-Quants Refresh Token:\")\n",
        "# リフレッシュトークンを使用できるか検証します。\n",
        "test_cli = jquantsapi.Client(refresh_token=refresh_token)\n",
        "try:\n",
        "    id_token = test_cli.get_id_token()\n",
        "    if len(id_token) > 0:\n",
        "        print(\"refresh_tokenは正常です。次の手順に進んでください。\")\n",
        "except HTTPError:\n",
        "    print(\"refresh_tokenを使用できません。再度値を確認してください。\")"
      ],
      "metadata": {
        "pycharm": {
          "name": "#%%\n"
        },
        "colab": {
          "base_uri": "https://localhost:8080/"
        },
        "id": "i1ADs91SGJve",
        "outputId": "6496f2c6-ffa5-407d-ca79-bf402b1ec339"
      }
    },
    {
      "cell_type": "markdown",
      "source": [
        "データ取得期間(start_dt <= 時刻 <= end_dt) の\n",
        "全銘柄の価格と財務情報データを取得します。\n",
        "このステップの実行には環境によって数十分ほど時間がかかります。"
      ],
      "metadata": {
        "collapsed": false,
        "pycharm": {
          "name": "#%% md\n"
        },
        "id": "xaknOIQQGJve"
      }
    },
    {
      "cell_type": "code",
      "execution_count": 6,
      "outputs": [
        {
          "output_type": "stream",
          "name": "stdout",
          "text": [
            "100 / 2069\n",
            "200 / 2069\n",
            "300 / 2069\n",
            "400 / 2069\n",
            "500 / 2069\n",
            "600 / 2069\n",
            "700 / 2069\n",
            "800 / 2069\n",
            "900 / 2069\n",
            "1000 / 2069\n",
            "1100 / 2069\n",
            "1200 / 2069\n",
            "1300 / 2069\n",
            "1400 / 2069\n",
            "1500 / 2069\n",
            "1600 / 2069\n",
            "1700 / 2069\n",
            "1800 / 2069\n",
            "1900 / 2069\n",
            "2000 / 2069\n"
          ]
        }
      ],
      "source": [
        "cli = jquantsapi.Client(refresh_token=refresh_token)\n",
        "stock_price: pd.DataFrame = cli.get_price_range(start_dt=start_dt, end_dt=end_dt)\n",
        "stock_fin: pd.DataFrame = cli.get_statements_range(start_dt=start_dt, end_dt=end_dt)"
      ],
      "metadata": {
        "pycharm": {
          "name": "#%%\n"
        },
        "colab": {
          "base_uri": "https://localhost:8080/"
        },
        "id": "hMFairulGJvf",
        "outputId": "6fdbb59f-0191-4ad5-e29c-db4e6d7390c8"
      }
    },
    {
      "cell_type": "markdown",
      "source": [
        "取得したデータをcsv.gz形式で保存します。\n",
        "stock_priceが巨大なファイル（非圧縮, 2017-01-01〜2022-07-31の期間だと540MB程度)なので、\n",
        "保存には3分ほどかかることがあります。"
      ],
      "metadata": {
        "collapsed": false,
        "pycharm": {
          "name": "#%% md\n"
        },
        "id": "b0cTjYpcGJvf"
      }
    },
    {
      "cell_type": "code",
      "execution_count": 7,
      "outputs": [],
      "source": [
        "stock_price.to_csv(stock_price_csvfile_path, compression=\"gzip\")\n",
        "stock_fin.to_csv(stock_fins_csvfile_path, compression=\"gzip\")"
      ],
      "metadata": {
        "pycharm": {
          "name": "#%%\n"
        },
        "id": "JHQwYAw-GJvf"
      }
    },
    {
      "cell_type": "markdown",
      "source": [
        "このnotebookはデータ保存までで終了です。predictor.ipynbに進みましょう。"
      ],
      "metadata": {
        "collapsed": false,
        "pycharm": {
          "name": "#%% md\n"
        },
        "id": "4Os9lzpwGJvf"
      }
    }
  ],
  "metadata": {
    "kernelspec": {
      "display_name": "Python 3",
      "language": "python",
      "name": "python3"
    },
    "language_info": {
      "codemirror_mode": {
        "name": "ipython",
        "version": 2
      },
      "file_extension": ".py",
      "mimetype": "text/x-python",
      "name": "python",
      "nbconvert_exporter": "python",
      "pygments_lexer": "ipython2",
      "version": "2.7.6"
    },
    "colab": {
      "provenance": []
    }
  },
  "nbformat": 4,
  "nbformat_minor": 0
}
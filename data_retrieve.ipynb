{
 "cells": [
  {
   "cell_type": "markdown",
   "source": [
    "[![Open In Colab](https://colab.research.google.com/assets/colab-badge.svg)](https://colab.research.google.com/github/dakimura/jquants-sample/blob/main/data_retrieve.ipynb)"
   ],
   "metadata": {
    "collapsed": false,
    "pycharm": {
     "name": "#%% md\n"
    },
    "id": "EliGb_8tGJva"
   }
  },
  {
   "cell_type": "markdown",
   "metadata": {
    "collapsed": true,
    "pycharm": {
     "name": "#%% md\n"
    },
    "id": "3CyAgtw7GJvc"
   },
   "source": [
    "# J-Quants APIを用いた分析用データ取得\n",
    "\n",
    "本ノートブックでは、データ分析に先立って\n",
    "分析で必要となる株価・財務情報データをJ-Quants APIを使用して取得し、\n",
    "保存するところまでを行います。\n",
    "Google Colab上で動作確認を行っています。\n"
   ]
  },
  {
   "cell_type": "markdown",
   "source": [
    "## J-Quants API\n",
    "J-Quants APIを利用するためには [J-Quants API の Web サイト](https://application.jpx-jquants.com/) から取得できるリフレッシュトークンが必要になります。\n",
    "会員登録とリフレッシュトークンの取得を完了させてから次に進みます。"
   ],
   "metadata": {
    "collapsed": false,
    "pycharm": {
     "name": "#%% md\n"
    },
    "id": "XKtXotmbGJvc"
   }
  },
  {
   "cell_type": "markdown",
   "source": [
    "必要なライブラリのinstall/importと設定を行います。"
   ],
   "metadata": {
    "collapsed": false,
    "pycharm": {
     "name": "#%% md\n"
    },
    "id": "yW05JPyuGJvd"
   }
  },
  {
   "cell_type": "code",
   "execution_count": 16,
   "outputs": [
    {
     "output_type": "stream",
     "name": "stdout",
     "text": [
      "Looking in indexes: https://pypi.org/simple, https://us-python.pkg.dev/colab-wheels/public/simple/\n",
      "Requirement already satisfied: numpy in /usr/local/lib/python3.7/dist-packages (1.21.6)\n",
      "Requirement already satisfied: pandas in /usr/local/lib/python3.7/dist-packages (1.3.5)\n",
      "Requirement already satisfied: requests in /usr/local/lib/python3.7/dist-packages (2.23.0)\n",
      "Requirement already satisfied: jquants-api-client==0.1.2 in /usr/local/lib/python3.7/dist-packages (0.1.2)\n",
      "Requirement already satisfied: types-python-dateutil<3.0.0,>=2.8.19 in /usr/local/lib/python3.7/dist-packages (from jquants-api-client==0.1.2) (2.8.19)\n",
      "Requirement already satisfied: types-requests<3.0.0,>=2.28.5 in /usr/local/lib/python3.7/dist-packages (from jquants-api-client==0.1.2) (2.28.9)\n",
      "Requirement already satisfied: urllib3<2.0.0,>=1.24.3 in /usr/local/lib/python3.7/dist-packages (from jquants-api-client==0.1.2) (1.24.3)\n",
      "Requirement already satisfied: pytz>=2017.3 in /usr/local/lib/python3.7/dist-packages (from pandas) (2022.2.1)\n",
      "Requirement already satisfied: python-dateutil>=2.7.3 in /usr/local/lib/python3.7/dist-packages (from pandas) (2.8.2)\n",
      "Requirement already satisfied: idna<3,>=2.5 in /usr/local/lib/python3.7/dist-packages (from requests) (2.10)\n",
      "Requirement already satisfied: chardet<4,>=3.0.2 in /usr/local/lib/python3.7/dist-packages (from requests) (3.0.4)\n",
      "Requirement already satisfied: certifi>=2017.4.17 in /usr/local/lib/python3.7/dist-packages (from requests) (2022.6.15)\n",
      "Requirement already satisfied: six>=1.5 in /usr/local/lib/python3.7/dist-packages (from python-dateutil>=2.7.3->pandas) (1.15.0)\n",
      "Requirement already satisfied: types-urllib3<1.27 in /usr/local/lib/python3.7/dist-packages (from types-requests<3.0.0,>=2.28.5->jquants-api-client==0.1.2) (1.26.23)\n"
     ]
    }
   ],
   "source": [
    "!pip install numpy pandas requests jquants-api-client==0.1.2\n",
    "\n",
    "import getpass\n",
    "from requests import HTTPError\n",
    "from datetime import datetime\n",
    "\n",
    "import jquantsapi\n",
    "import pandas as pd\n",
    "import numpy as np\n",
    "from dateutil import tz\n",
    "\n",
    "# --- コンフィグ ---\n",
    "# Googleドライブをマウントするディレクトリ\n",
    "GOOGLE_DRIVE_MOUNT_DIR_PATH = \"/content/drive/\"\n",
    "\n",
    "# データを保存するGoogleドライブ上のディレクトリ\n",
    "STORAGE_DIR_PATH = \"/content/drive/MyDrive/drive_ws/marketdata\"\n",
    "\n",
    "# 各種CSVデータを保存するファイルパス\n",
    "stock_fins_csvfile_path = STORAGE_DIR_PATH + \"/stock_fin.csv.gz\"\n",
    "stock_price_csvfile_path = STORAGE_DIR_PATH + \"/stock_price.csv.gz\"\n",
    "\n",
    "# J-Quants API から取得するデータの期間\n",
    "start_dt: datetime = datetime(2017, 1, 1, tzinfo=tz.gettz(\"Asia/Tokyo\"))\n",
    "# デバッグ中なので短い期間を使う\n",
    "#start_dt: datetime = datetime(2022, 6, 1, tzinfo=tz.gettz(\"Asia/Tokyo\"))\n",
    "\n",
    "end_dt: datetime = datetime(2022, 7, 31, tzinfo=tz.gettz(\"Asia/Tokyo\"))"
   ],
   "metadata": {
    "pycharm": {
     "name": "#%%\n"
    },
    "colab": {
     "base_uri": "https://localhost:8080/"
    },
    "id": "UL4Jo8m2GJvd",
    "outputId": "e37a1cae-48b4-47cb-b667-58c169aae17e"
   }
  },
  {
   "cell_type": "code",
   "source": [
    "# Googleドライブをマウント\n",
    "from google.colab import drive\n",
    "drive.mount('/content/drive')"
   ],
   "metadata": {
    "id": "757Ajii9ONBQ",
    "pycharm": {
     "name": "#%%\n"
    }
   },
   "execution_count": null,
   "outputs": []
  },
  {
   "cell_type": "markdown",
   "source": [
    "入力ボックスに https://application.jpx-jquants.com/ から取得したJ-Quants APIのリフレッシュトークンを入力してください。"
   ],
   "metadata": {
    "collapsed": false,
    "pycharm": {
     "name": "#%% md\n"
    },
    "id": "qgVoql6RGJve"
   }
  },
  {
   "cell_type": "code",
   "execution_count": 3,
   "outputs": [
    {
     "output_type": "stream",
     "name": "stdout",
     "text": [
      "J-Quants Refresh Token:··········\n",
      "refresh_tokenは正常です。次の手順に進んでください。\n"
     ]
    }
   ],
   "source": [
    "refresh_token = getpass.getpass(prompt=\"J-Quants Refresh Token:\")\n",
    "# リフレッシュトークンを使用できるか検証します。\n",
    "test_cli = jquantsapi.Client(refresh_token=refresh_token)\n",
    "try:\n",
    "    id_token = test_cli.get_id_token()\n",
    "    if len(id_token) > 0:\n",
    "        print(\"refresh_tokenは正常です。次の手順に進んでください。\")\n",
    "except HTTPError:\n",
    "    print(\"refresh_tokenを使用できません。再度値を確認してください。\")"
   ],
   "metadata": {
    "pycharm": {
     "name": "#%%\n"
    },
    "colab": {
     "base_uri": "https://localhost:8080/"
    },
    "id": "i1ADs91SGJve",
    "outputId": "8d511235-f3e9-4412-b59e-c33b545c53e2"
   }
  },
  {
   "cell_type": "markdown",
   "source": [
    "データ取得期間(start_dt <= 時刻 <= end_dt) の\n",
    "全銘柄の価格と財務情報データを取得します。\n",
    "このステップの実行には環境によって数十分ほど時間がかかります。"
   ],
   "metadata": {
    "collapsed": false,
    "pycharm": {
     "name": "#%% md\n"
    },
    "id": "xaknOIQQGJve"
   }
  },
  {
   "cell_type": "code",
   "execution_count": 14,
   "outputs": [
    {
     "output_type": "error",
     "ename": "KeyboardInterrupt",
     "evalue": "ignored",
     "traceback": [
      "\u001B[0;31m---------------------------------------------------------------------------\u001B[0m",
      "\u001B[0;31mKeyboardInterrupt\u001B[0m                         Traceback (most recent call last)",
      "\u001B[0;32m/usr/local/lib/python3.7/dist-packages/jquantsapi/client.py\u001B[0m in \u001B[0;36mget_price_range\u001B[0;34m(self, start_dt, end_dt)\u001B[0m\n\u001B[1;32m    311\u001B[0m             ]\n\u001B[0;32m--> 312\u001B[0;31m             \u001B[0;32mfor\u001B[0m \u001B[0mfuture\u001B[0m \u001B[0;32min\u001B[0m \u001B[0mas_completed\u001B[0m\u001B[0;34m(\u001B[0m\u001B[0mfutures\u001B[0m\u001B[0;34m)\u001B[0m\u001B[0;34m:\u001B[0m\u001B[0;34m\u001B[0m\u001B[0;34m\u001B[0m\u001B[0m\n\u001B[0m\u001B[1;32m    313\u001B[0m                 \u001B[0mdf\u001B[0m \u001B[0;34m=\u001B[0m \u001B[0mfuture\u001B[0m\u001B[0;34m.\u001B[0m\u001B[0mresult\u001B[0m\u001B[0;34m(\u001B[0m\u001B[0;34m)\u001B[0m\u001B[0;34m\u001B[0m\u001B[0;34m\u001B[0m\u001B[0m\n",
      "\u001B[0;32m/usr/lib/python3.7/concurrent/futures/_base.py\u001B[0m in \u001B[0;36mas_completed\u001B[0;34m(fs, timeout)\u001B[0m\n\u001B[1;32m    239\u001B[0m \u001B[0;34m\u001B[0m\u001B[0m\n\u001B[0;32m--> 240\u001B[0;31m             \u001B[0mwaiter\u001B[0m\u001B[0;34m.\u001B[0m\u001B[0mevent\u001B[0m\u001B[0;34m.\u001B[0m\u001B[0mwait\u001B[0m\u001B[0;34m(\u001B[0m\u001B[0mwait_timeout\u001B[0m\u001B[0;34m)\u001B[0m\u001B[0;34m\u001B[0m\u001B[0;34m\u001B[0m\u001B[0m\n\u001B[0m\u001B[1;32m    241\u001B[0m \u001B[0;34m\u001B[0m\u001B[0m\n",
      "\u001B[0;32m/usr/lib/python3.7/threading.py\u001B[0m in \u001B[0;36mwait\u001B[0;34m(self, timeout)\u001B[0m\n\u001B[1;32m    551\u001B[0m             \u001B[0;32mif\u001B[0m \u001B[0;32mnot\u001B[0m \u001B[0msignaled\u001B[0m\u001B[0;34m:\u001B[0m\u001B[0;34m\u001B[0m\u001B[0;34m\u001B[0m\u001B[0m\n\u001B[0;32m--> 552\u001B[0;31m                 \u001B[0msignaled\u001B[0m \u001B[0;34m=\u001B[0m \u001B[0mself\u001B[0m\u001B[0;34m.\u001B[0m\u001B[0m_cond\u001B[0m\u001B[0;34m.\u001B[0m\u001B[0mwait\u001B[0m\u001B[0;34m(\u001B[0m\u001B[0mtimeout\u001B[0m\u001B[0;34m)\u001B[0m\u001B[0;34m\u001B[0m\u001B[0;34m\u001B[0m\u001B[0m\n\u001B[0m\u001B[1;32m    553\u001B[0m             \u001B[0;32mreturn\u001B[0m \u001B[0msignaled\u001B[0m\u001B[0;34m\u001B[0m\u001B[0;34m\u001B[0m\u001B[0m\n",
      "\u001B[0;32m/usr/lib/python3.7/threading.py\u001B[0m in \u001B[0;36mwait\u001B[0;34m(self, timeout)\u001B[0m\n\u001B[1;32m    295\u001B[0m             \u001B[0;32mif\u001B[0m \u001B[0mtimeout\u001B[0m \u001B[0;32mis\u001B[0m \u001B[0;32mNone\u001B[0m\u001B[0;34m:\u001B[0m\u001B[0;34m\u001B[0m\u001B[0;34m\u001B[0m\u001B[0m\n\u001B[0;32m--> 296\u001B[0;31m                 \u001B[0mwaiter\u001B[0m\u001B[0;34m.\u001B[0m\u001B[0macquire\u001B[0m\u001B[0;34m(\u001B[0m\u001B[0;34m)\u001B[0m\u001B[0;34m\u001B[0m\u001B[0;34m\u001B[0m\u001B[0m\n\u001B[0m\u001B[1;32m    297\u001B[0m                 \u001B[0mgotit\u001B[0m \u001B[0;34m=\u001B[0m \u001B[0;32mTrue\u001B[0m\u001B[0;34m\u001B[0m\u001B[0;34m\u001B[0m\u001B[0m\n",
      "\u001B[0;31mKeyboardInterrupt\u001B[0m: ",
      "\nDuring handling of the above exception, another exception occurred:\n",
      "\u001B[0;31mKeyboardInterrupt\u001B[0m                         Traceback (most recent call last)",
      "\u001B[0;32m<ipython-input-14-3ef99edeaf42>\u001B[0m in \u001B[0;36m<module>\u001B[0;34m\u001B[0m\n\u001B[1;32m      1\u001B[0m \u001B[0mcli\u001B[0m \u001B[0;34m=\u001B[0m \u001B[0mjquantsapi\u001B[0m\u001B[0;34m.\u001B[0m\u001B[0mClient\u001B[0m\u001B[0;34m(\u001B[0m\u001B[0mrefresh_token\u001B[0m\u001B[0;34m=\u001B[0m\u001B[0mrefresh_token\u001B[0m\u001B[0;34m)\u001B[0m\u001B[0;34m\u001B[0m\u001B[0;34m\u001B[0m\u001B[0m\n\u001B[0;32m----> 2\u001B[0;31m \u001B[0mstock_price\u001B[0m\u001B[0;34m:\u001B[0m \u001B[0mpd\u001B[0m\u001B[0;34m.\u001B[0m\u001B[0mDataFrame\u001B[0m \u001B[0;34m=\u001B[0m \u001B[0mcli\u001B[0m\u001B[0;34m.\u001B[0m\u001B[0mget_price_range\u001B[0m\u001B[0;34m(\u001B[0m\u001B[0mstart_dt\u001B[0m\u001B[0;34m=\u001B[0m\u001B[0mstart_dt\u001B[0m\u001B[0;34m,\u001B[0m \u001B[0mend_dt\u001B[0m\u001B[0;34m=\u001B[0m\u001B[0mend_dt\u001B[0m\u001B[0;34m)\u001B[0m\u001B[0;34m\u001B[0m\u001B[0;34m\u001B[0m\u001B[0m\n\u001B[0m\u001B[1;32m      3\u001B[0m \u001B[0mstock_fin\u001B[0m\u001B[0;34m:\u001B[0m \u001B[0mpd\u001B[0m\u001B[0;34m.\u001B[0m\u001B[0mDataFrame\u001B[0m \u001B[0;34m=\u001B[0m \u001B[0mcli\u001B[0m\u001B[0;34m.\u001B[0m\u001B[0mget_statements_range\u001B[0m\u001B[0;34m(\u001B[0m\u001B[0mstart_dt\u001B[0m\u001B[0;34m=\u001B[0m\u001B[0mstart_dt\u001B[0m\u001B[0;34m,\u001B[0m \u001B[0mend_dt\u001B[0m\u001B[0;34m=\u001B[0m\u001B[0mend_dt\u001B[0m\u001B[0;34m)\u001B[0m\u001B[0;34m\u001B[0m\u001B[0;34m\u001B[0m\u001B[0m\n",
      "\u001B[0;32m/usr/local/lib/python3.7/dist-packages/jquantsapi/client.py\u001B[0m in \u001B[0;36mget_price_range\u001B[0;34m(self, start_dt, end_dt)\u001B[0m\n\u001B[1;32m    312\u001B[0m             \u001B[0;32mfor\u001B[0m \u001B[0mfuture\u001B[0m \u001B[0;32min\u001B[0m \u001B[0mas_completed\u001B[0m\u001B[0;34m(\u001B[0m\u001B[0mfutures\u001B[0m\u001B[0;34m)\u001B[0m\u001B[0;34m:\u001B[0m\u001B[0;34m\u001B[0m\u001B[0;34m\u001B[0m\u001B[0m\n\u001B[1;32m    313\u001B[0m                 \u001B[0mdf\u001B[0m \u001B[0;34m=\u001B[0m \u001B[0mfuture\u001B[0m\u001B[0;34m.\u001B[0m\u001B[0mresult\u001B[0m\u001B[0;34m(\u001B[0m\u001B[0;34m)\u001B[0m\u001B[0;34m\u001B[0m\u001B[0;34m\u001B[0m\u001B[0m\n\u001B[0;32m--> 314\u001B[0;31m                 \u001B[0mbuff\u001B[0m\u001B[0;34m.\u001B[0m\u001B[0mappend\u001B[0m\u001B[0;34m(\u001B[0m\u001B[0mdf\u001B[0m\u001B[0;34m)\u001B[0m\u001B[0;34m\u001B[0m\u001B[0;34m\u001B[0m\u001B[0m\n\u001B[0m\u001B[1;32m    315\u001B[0m \u001B[0;34m\u001B[0m\u001B[0m\n\u001B[1;32m    316\u001B[0m         \u001B[0;32mreturn\u001B[0m \u001B[0mpd\u001B[0m\u001B[0;34m.\u001B[0m\u001B[0mconcat\u001B[0m\u001B[0;34m(\u001B[0m\u001B[0mbuff\u001B[0m\u001B[0;34m)\u001B[0m\u001B[0;34m.\u001B[0m\u001B[0msort_values\u001B[0m\u001B[0;34m(\u001B[0m\u001B[0;34m[\u001B[0m\u001B[0;34m\"Code\"\u001B[0m\u001B[0;34m,\u001B[0m \u001B[0;34m\"Date\"\u001B[0m\u001B[0;34m]\u001B[0m\u001B[0;34m)\u001B[0m\u001B[0;34m\u001B[0m\u001B[0;34m\u001B[0m\u001B[0m\n",
      "\u001B[0;32m/usr/lib/python3.7/concurrent/futures/_base.py\u001B[0m in \u001B[0;36m__exit__\u001B[0;34m(self, exc_type, exc_val, exc_tb)\u001B[0m\n\u001B[1;32m    621\u001B[0m \u001B[0;34m\u001B[0m\u001B[0m\n\u001B[1;32m    622\u001B[0m     \u001B[0;32mdef\u001B[0m \u001B[0m__exit__\u001B[0m\u001B[0;34m(\u001B[0m\u001B[0mself\u001B[0m\u001B[0;34m,\u001B[0m \u001B[0mexc_type\u001B[0m\u001B[0;34m,\u001B[0m \u001B[0mexc_val\u001B[0m\u001B[0;34m,\u001B[0m \u001B[0mexc_tb\u001B[0m\u001B[0;34m)\u001B[0m\u001B[0;34m:\u001B[0m\u001B[0;34m\u001B[0m\u001B[0;34m\u001B[0m\u001B[0m\n\u001B[0;32m--> 623\u001B[0;31m         \u001B[0mself\u001B[0m\u001B[0;34m.\u001B[0m\u001B[0mshutdown\u001B[0m\u001B[0;34m(\u001B[0m\u001B[0mwait\u001B[0m\u001B[0;34m=\u001B[0m\u001B[0;32mTrue\u001B[0m\u001B[0;34m)\u001B[0m\u001B[0;34m\u001B[0m\u001B[0;34m\u001B[0m\u001B[0m\n\u001B[0m\u001B[1;32m    624\u001B[0m         \u001B[0;32mreturn\u001B[0m \u001B[0;32mFalse\u001B[0m\u001B[0;34m\u001B[0m\u001B[0;34m\u001B[0m\u001B[0m\n\u001B[1;32m    625\u001B[0m \u001B[0;34m\u001B[0m\u001B[0m\n",
      "\u001B[0;32m/usr/lib/python3.7/concurrent/futures/thread.py\u001B[0m in \u001B[0;36mshutdown\u001B[0;34m(self, wait)\u001B[0m\n\u001B[1;32m    214\u001B[0m         \u001B[0;32mif\u001B[0m \u001B[0mwait\u001B[0m\u001B[0;34m:\u001B[0m\u001B[0;34m\u001B[0m\u001B[0;34m\u001B[0m\u001B[0m\n\u001B[1;32m    215\u001B[0m             \u001B[0;32mfor\u001B[0m \u001B[0mt\u001B[0m \u001B[0;32min\u001B[0m \u001B[0mself\u001B[0m\u001B[0;34m.\u001B[0m\u001B[0m_threads\u001B[0m\u001B[0;34m:\u001B[0m\u001B[0;34m\u001B[0m\u001B[0;34m\u001B[0m\u001B[0m\n\u001B[0;32m--> 216\u001B[0;31m                 \u001B[0mt\u001B[0m\u001B[0;34m.\u001B[0m\u001B[0mjoin\u001B[0m\u001B[0;34m(\u001B[0m\u001B[0;34m)\u001B[0m\u001B[0;34m\u001B[0m\u001B[0;34m\u001B[0m\u001B[0m\n\u001B[0m\u001B[1;32m    217\u001B[0m     \u001B[0mshutdown\u001B[0m\u001B[0;34m.\u001B[0m\u001B[0m__doc__\u001B[0m \u001B[0;34m=\u001B[0m \u001B[0m_base\u001B[0m\u001B[0;34m.\u001B[0m\u001B[0mExecutor\u001B[0m\u001B[0;34m.\u001B[0m\u001B[0mshutdown\u001B[0m\u001B[0;34m.\u001B[0m\u001B[0m__doc__\u001B[0m\u001B[0;34m\u001B[0m\u001B[0;34m\u001B[0m\u001B[0m\n",
      "\u001B[0;32m/usr/lib/python3.7/threading.py\u001B[0m in \u001B[0;36mjoin\u001B[0;34m(self, timeout)\u001B[0m\n\u001B[1;32m   1042\u001B[0m \u001B[0;34m\u001B[0m\u001B[0m\n\u001B[1;32m   1043\u001B[0m         \u001B[0;32mif\u001B[0m \u001B[0mtimeout\u001B[0m \u001B[0;32mis\u001B[0m \u001B[0;32mNone\u001B[0m\u001B[0;34m:\u001B[0m\u001B[0;34m\u001B[0m\u001B[0;34m\u001B[0m\u001B[0m\n\u001B[0;32m-> 1044\u001B[0;31m             \u001B[0mself\u001B[0m\u001B[0;34m.\u001B[0m\u001B[0m_wait_for_tstate_lock\u001B[0m\u001B[0;34m(\u001B[0m\u001B[0;34m)\u001B[0m\u001B[0;34m\u001B[0m\u001B[0;34m\u001B[0m\u001B[0m\n\u001B[0m\u001B[1;32m   1045\u001B[0m         \u001B[0;32melse\u001B[0m\u001B[0;34m:\u001B[0m\u001B[0;34m\u001B[0m\u001B[0;34m\u001B[0m\u001B[0m\n\u001B[1;32m   1046\u001B[0m             \u001B[0;31m# the behavior of a negative timeout isn't documented, but\u001B[0m\u001B[0;34m\u001B[0m\u001B[0;34m\u001B[0m\u001B[0;34m\u001B[0m\u001B[0m\n",
      "\u001B[0;32m/usr/lib/python3.7/threading.py\u001B[0m in \u001B[0;36m_wait_for_tstate_lock\u001B[0;34m(self, block, timeout)\u001B[0m\n\u001B[1;32m   1058\u001B[0m         \u001B[0;32mif\u001B[0m \u001B[0mlock\u001B[0m \u001B[0;32mis\u001B[0m \u001B[0;32mNone\u001B[0m\u001B[0;34m:\u001B[0m  \u001B[0;31m# already determined that the C code is done\u001B[0m\u001B[0;34m\u001B[0m\u001B[0;34m\u001B[0m\u001B[0m\n\u001B[1;32m   1059\u001B[0m             \u001B[0;32massert\u001B[0m \u001B[0mself\u001B[0m\u001B[0;34m.\u001B[0m\u001B[0m_is_stopped\u001B[0m\u001B[0;34m\u001B[0m\u001B[0;34m\u001B[0m\u001B[0m\n\u001B[0;32m-> 1060\u001B[0;31m         \u001B[0;32melif\u001B[0m \u001B[0mlock\u001B[0m\u001B[0;34m.\u001B[0m\u001B[0macquire\u001B[0m\u001B[0;34m(\u001B[0m\u001B[0mblock\u001B[0m\u001B[0;34m,\u001B[0m \u001B[0mtimeout\u001B[0m\u001B[0;34m)\u001B[0m\u001B[0;34m:\u001B[0m\u001B[0;34m\u001B[0m\u001B[0;34m\u001B[0m\u001B[0m\n\u001B[0m\u001B[1;32m   1061\u001B[0m             \u001B[0mlock\u001B[0m\u001B[0;34m.\u001B[0m\u001B[0mrelease\u001B[0m\u001B[0;34m(\u001B[0m\u001B[0;34m)\u001B[0m\u001B[0;34m\u001B[0m\u001B[0;34m\u001B[0m\u001B[0m\n\u001B[1;32m   1062\u001B[0m             \u001B[0mself\u001B[0m\u001B[0;34m.\u001B[0m\u001B[0m_stop\u001B[0m\u001B[0;34m(\u001B[0m\u001B[0;34m)\u001B[0m\u001B[0;34m\u001B[0m\u001B[0;34m\u001B[0m\u001B[0m\n",
      "\u001B[0;31mKeyboardInterrupt\u001B[0m: "
     ]
    }
   ],
   "source": [
    "cli = jquantsapi.Client(refresh_token=refresh_token)\n",
    "stock_price: pd.DataFrame = cli.get_price_range(start_dt=start_dt, end_dt=end_dt)\n",
    "stock_fin: pd.DataFrame = cli.get_statements_range(start_dt=start_dt, end_dt=end_dt)"
   ],
   "metadata": {
    "pycharm": {
     "name": "#%%\n"
    },
    "colab": {
     "base_uri": "https://localhost:8080/",
     "height": 447
    },
    "id": "hMFairulGJvf",
    "outputId": "2b3d9ae4-e969-4355-a198-5476d740aa93"
   }
  },
  {
   "cell_type": "markdown",
   "source": [
    "取得したデータをcsv.gz形式で保存します。\n",
    "stock_priceが巨大なファイル（非圧縮で540MB程度)なので、保存には3分ほどかかることがあります。"
   ],
   "metadata": {
    "collapsed": false,
    "pycharm": {
     "name": "#%% md\n"
    },
    "id": "b0cTjYpcGJvf"
   }
  },
  {
   "cell_type": "code",
   "execution_count": 17,
   "outputs": [],
   "source": [
    "stock_price.to_csv(stock_price_csvfile_path, compression=\"gzip\")\n",
    "stock_fin.to_csv(stock_fins_csvfile_path, compression=\"gzip\")"
   ],
   "metadata": {
    "pycharm": {
     "name": "#%%\n"
    },
    "id": "JHQwYAw-GJvf"
   }
  },
  {
   "cell_type": "markdown",
   "source": [
    "このnotebookはデータ保存までで終了です。predictor.ipynbに進みましょう。"
   ],
   "metadata": {
    "collapsed": false,
    "pycharm": {
     "name": "#%% md\n"
    },
    "id": "4Os9lzpwGJvf"
   }
  }
 ],
 "metadata": {
  "kernelspec": {
   "display_name": "Python 3",
   "language": "python",
   "name": "python3"
  },
  "language_info": {
   "codemirror_mode": {
    "name": "ipython",
    "version": 2
   },
   "file_extension": ".py",
   "mimetype": "text/x-python",
   "name": "python",
   "nbconvert_exporter": "python",
   "pygments_lexer": "ipython2",
   "version": "2.7.6"
  },
  "colab": {
   "provenance": []
  }
 },
 "nbformat": 4,
 "nbformat_minor": 0
}
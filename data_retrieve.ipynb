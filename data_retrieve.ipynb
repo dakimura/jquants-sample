{
 "cells": [
  {
   "cell_type": "markdown",
   "source": [
    "[![Open In Colab](https://colab.research.google.com/assets/colab-badge.svg)](https://colab.research.google.com/github/AlpacaDB/jquants-api-sample/blob/main/jquants_api_sample.ipynb)"
   ],
   "metadata": {
    "collapsed": false,
    "pycharm": {
     "name": "#%% md\n"
    }
   }
  },
  {
   "cell_type": "markdown",
   "metadata": {
    "collapsed": true,
    "pycharm": {
     "name": "#%% md\n"
    }
   },
   "source": [
    "# J-Quantsチュートリアル用データ取得\n",
    "\n",
    "本ノートブックでは、J-Quantsチュートリアルセミナーに先立って\n",
    "セミナーで必要となる株価・財務情報データをJ-Quants APIを使用して取得し、\n",
    "Google Driveに保存するところまでを行います。\n",
    "本ノートブックはGoogle Colaboratory上で動作確認を行っています。\n"
   ]
  },
  {
   "cell_type": "markdown",
   "source": [
    "## J-Quants API\n",
    "J-Quants APIにアクセスするためには [J-Quants API の Web サイト](https://application.jpx-jquants.com/) から取得できるリフレッシュトークンが必要になります。\n",
    "会員登録とリフレッシュトークンの取得を完了させてから次に進みます。"
   ],
   "metadata": {
    "collapsed": false,
    "pycharm": {
     "name": "#%% md\n"
    }
   }
  },
  {
   "cell_type": "code",
   "execution_count": 26,
   "outputs": [
    {
     "name": "stdout",
     "output_type": "stream",
     "text": [
      "Requirement already satisfied: jquants-api-client==0.1.2 in /Users/dakimura/Library/Caches/pypoetry/virtualenvs/jquants-sample-WjxObdxd-py3.9/lib/python3.9/site-packages (0.1.2)\r\n",
      "Requirement already satisfied: types-python-dateutil<3.0.0,>=2.8.19 in /Users/dakimura/Library/Caches/pypoetry/virtualenvs/jquants-sample-WjxObdxd-py3.9/lib/python3.9/site-packages (from jquants-api-client==0.1.2) (2.8.19)\r\n",
      "Requirement already satisfied: urllib3<2.0.0,>=1.24.3 in /Users/dakimura/Library/Caches/pypoetry/virtualenvs/jquants-sample-WjxObdxd-py3.9/lib/python3.9/site-packages (from jquants-api-client==0.1.2) (1.26.12)\r\n",
      "Requirement already satisfied: types-requests<3.0.0,>=2.28.5 in /Users/dakimura/Library/Caches/pypoetry/virtualenvs/jquants-sample-WjxObdxd-py3.9/lib/python3.9/site-packages (from jquants-api-client==0.1.2) (2.28.9)\r\n",
      "Requirement already satisfied: pandas<2.0.0,>=1.4.3 in /Users/dakimura/Library/Caches/pypoetry/virtualenvs/jquants-sample-WjxObdxd-py3.9/lib/python3.9/site-packages (from jquants-api-client==0.1.2) (1.4.3)\r\n",
      "Requirement already satisfied: numpy<2.0.0,>=1.23.1 in /Users/dakimura/Library/Caches/pypoetry/virtualenvs/jquants-sample-WjxObdxd-py3.9/lib/python3.9/site-packages (from jquants-api-client==0.1.2) (1.23.2)\r\n",
      "Requirement already satisfied: requests<3.0.0,>=2.23.0 in /Users/dakimura/Library/Caches/pypoetry/virtualenvs/jquants-sample-WjxObdxd-py3.9/lib/python3.9/site-packages (from jquants-api-client==0.1.2) (2.28.1)\r\n",
      "Requirement already satisfied: python-dateutil>=2.8.1 in /Users/dakimura/Library/Caches/pypoetry/virtualenvs/jquants-sample-WjxObdxd-py3.9/lib/python3.9/site-packages (from pandas<2.0.0,>=1.4.3->jquants-api-client==0.1.2) (2.8.2)\r\n",
      "Requirement already satisfied: pytz>=2020.1 in /Users/dakimura/Library/Caches/pypoetry/virtualenvs/jquants-sample-WjxObdxd-py3.9/lib/python3.9/site-packages (from pandas<2.0.0,>=1.4.3->jquants-api-client==0.1.2) (2022.2.1)\r\n",
      "Requirement already satisfied: certifi>=2017.4.17 in /Users/dakimura/Library/Caches/pypoetry/virtualenvs/jquants-sample-WjxObdxd-py3.9/lib/python3.9/site-packages (from requests<3.0.0,>=2.23.0->jquants-api-client==0.1.2) (2022.6.15)\r\n",
      "Requirement already satisfied: idna<4,>=2.5 in /Users/dakimura/Library/Caches/pypoetry/virtualenvs/jquants-sample-WjxObdxd-py3.9/lib/python3.9/site-packages (from requests<3.0.0,>=2.23.0->jquants-api-client==0.1.2) (3.3)\r\n",
      "Requirement already satisfied: charset-normalizer<3,>=2 in /Users/dakimura/Library/Caches/pypoetry/virtualenvs/jquants-sample-WjxObdxd-py3.9/lib/python3.9/site-packages (from requests<3.0.0,>=2.23.0->jquants-api-client==0.1.2) (2.1.1)\r\n",
      "Requirement already satisfied: types-urllib3<1.27 in /Users/dakimura/Library/Caches/pypoetry/virtualenvs/jquants-sample-WjxObdxd-py3.9/lib/python3.9/site-packages (from types-requests<3.0.0,>=2.28.5->jquants-api-client==0.1.2) (1.26.23)\r\n",
      "Requirement already satisfied: six>=1.5 in /Users/dakimura/Library/Caches/pypoetry/virtualenvs/jquants-sample-WjxObdxd-py3.9/lib/python3.9/site-packages (from python-dateutil>=2.8.1->pandas<2.0.0,>=1.4.3->jquants-api-client==0.1.2) (1.16.0)\r\n",
      "\u001B[33mWARNING: You are using pip version 22.0.3; however, version 22.2.2 is available.\r\n",
      "You should consider upgrading via the '/Users/dakimura/Library/Caches/pypoetry/virtualenvs/jquants-sample-WjxObdxd-py3.9/bin/python -m pip install --upgrade pip' command.\u001B[0m\u001B[33m\r\n",
      "\u001B[0m"
     ]
    }
   ],
   "source": [
    "# 必要なライブラリのインストール\n",
    "! pip install jquants-api-client == 0.1.2\n",
    "\n",
    "# インポート\n",
    "import getpass\n",
    "from requests import HTTPError\n",
    "from datetime import datetime\n",
    "import time\n",
    "\n",
    "import jquantsapi\n",
    "import pandas as pd\n",
    "import numpy as np\n",
    "from dateutil import tz\n",
    "\n",
    "# 必要なコンフィグの定義\n",
    "# データを保存するGoogleドライブ上のディレクトリ\n",
    "STORAGE_DIR_PATH = \"/content/drive/MyDrive/drive_ws/marketdata\"\n",
    "# for local debug\n",
    "STORAGE_DIR_PATH = \"/tmp/marketdata\"\n",
    "# J-Quants API から取得するデータの期間\n",
    "start_dt: datetime = datetime(2017, 1, 1, tzinfo=tz.gettz(\"Asia/Tokyo\"))\n",
    "# for debug\n",
    "start_dt: datetime = datetime(2022, 7, 18, tzinfo=tz.gettz(\"Asia/Tokyo\"))\n",
    "\n",
    "end_dt: datetime = datetime(2022, 7, 31, tzinfo=tz.gettz(\"Asia/Tokyo\"))\n",
    "\n",
    "codes = []"
   ],
   "metadata": {
    "collapsed": false,
    "pycharm": {
     "name": "#%%\n"
    }
   }
  },
  {
   "cell_type": "code",
   "execution_count": 3,
   "outputs": [
    {
     "name": "stdout",
     "output_type": "stream",
     "text": [
      "refresh_tokenは正常です。次の手順に進んでください。\n"
     ]
    }
   ],
   "source": [
    "# https://application.jpx-jquants.com/ から取得したJ-Quants APIのリフレッシュトークンを入力してください。\n",
    "refresh_token = getpass.getpass(prompt=\"J-Quants Refresh Token:\")\n",
    "# リフレッシュトークンを使用できるか検証します。\n",
    "test_cli = jquantsapi.Client(refresh_token=refresh_token)\n",
    "try:\n",
    "    id_token = test_cli.get_id_token()\n",
    "    if len(id_token) > 0:\n",
    "        print(\"refresh_tokenは正常です。次の手順に進んでください。\")\n",
    "except HTTPError:\n",
    "    print(\"refresh_tokenを使用できません。再度値を確認してください。\")"
   ],
   "metadata": {
    "collapsed": false,
    "pycharm": {
     "name": "#%%\n"
    }
   }
  },
  {
   "cell_type": "markdown",
   "source": [
    "データ取得期間(start_dt <= 時刻 <= end_dt) の全銘柄の価格と財務情報データを取得します。\n",
    "このステップの実行には環境によって数十分ほど時間がかかることがあります。"
   ],
   "metadata": {
    "collapsed": false,
    "pycharm": {
     "name": "#%% md\n"
    }
   }
  },
  {
   "cell_type": "code",
   "execution_count": 36,
   "outputs": [],
   "source": [
    "cli = jquantsapi.Client(refresh_token=refresh_token)\n",
    "stock_price: pd.DataFrame = cli.get_price_range(start_dt=start_dt, end_dt=end_dt)\n",
    "stock_list: pd.DataFrame = stock_price[\"Code\"].unique()\n",
    "stock_fins: pd.DataFrame = cli.get_statements_range(start_dt=start_dt, end_dt=end_dt)"
   ],
   "metadata": {
    "collapsed": false,
    "pycharm": {
     "name": "#%%\n"
    }
   }
  },
  {
   "cell_type": "markdown",
   "source": [
    "[株式分析チュートリアル](https://japanexchangegroup.github.io/J-Quants-Tutorial/#introduction)で用いられた株価データを[J-Quants API](https://jpx.gitbook.io/j-quants-api/api-reference)を用いて再現するためにDataFrameを変更します。"
   ],
   "metadata": {
    "collapsed": false,
    "pycharm": {
     "name": "#%% md\n"
    }
   }
  },
  {
   "cell_type": "code",
   "execution_count": 34,
   "outputs": [
    {
     "data": {
      "text/plain": "     Local Code       Date  EndOfDayQuote Open  EndOfDayQuote High  \\\n0         13010 2022-07-19              3660.0              3660.0   \n0         13010 2022-07-20              3660.0              3660.0   \n0         13010 2022-07-21              3585.0              3645.0   \n0         13010 2022-07-22              3610.0              3635.0   \n0         13010 2022-07-25              3615.0              3660.0   \n...         ...        ...                 ...                 ...   \n4193      99970 2022-07-25               829.0               831.0   \n4193      99970 2022-07-26               826.0               827.0   \n4194      99970 2022-07-27               819.0               822.0   \n4193      99970 2022-07-28               813.0               816.0   \n4195      99970 2022-07-29               810.0               810.0   \n\n      EndOfDayQuote Low  EndOfDayQuote Close  EndOfDayQuote Volume  \\\n0                3585.0               3605.0               10900.0   \n0                3610.0               3630.0               18300.0   \n0                3585.0               3645.0               10300.0   \n0                3605.0               3620.0               10700.0   \n0                3615.0               3630.0                8100.0   \n...                 ...                  ...                   ...   \n4193              816.0                826.0              151200.0   \n4193              816.0                825.0              133600.0   \n4194              811.0                811.0              136500.0   \n4193              801.0                816.0              187300.0   \n4195              770.0                776.0              412900.0   \n\n      EndOfDayQuote ExchangeOfficialClose  \n0                                  3605.0  \n0                                  3630.0  \n0                                  3645.0  \n0                                  3620.0  \n0                                  3630.0  \n...                                   ...  \n4193                                826.0  \n4193                                825.0  \n4194                                811.0  \n4193                                816.0  \n4195                                776.0  \n\n[37751 rows x 8 columns]",
      "text/html": "<div>\n<style scoped>\n    .dataframe tbody tr th:only-of-type {\n        vertical-align: middle;\n    }\n\n    .dataframe tbody tr th {\n        vertical-align: top;\n    }\n\n    .dataframe thead th {\n        text-align: right;\n    }\n</style>\n<table border=\"1\" class=\"dataframe\">\n  <thead>\n    <tr style=\"text-align: right;\">\n      <th></th>\n      <th>Local Code</th>\n      <th>Date</th>\n      <th>EndOfDayQuote Open</th>\n      <th>EndOfDayQuote High</th>\n      <th>EndOfDayQuote Low</th>\n      <th>EndOfDayQuote Close</th>\n      <th>EndOfDayQuote Volume</th>\n      <th>EndOfDayQuote ExchangeOfficialClose</th>\n    </tr>\n  </thead>\n  <tbody>\n    <tr>\n      <th>0</th>\n      <td>13010</td>\n      <td>2022-07-19</td>\n      <td>3660.0</td>\n      <td>3660.0</td>\n      <td>3585.0</td>\n      <td>3605.0</td>\n      <td>10900.0</td>\n      <td>3605.0</td>\n    </tr>\n    <tr>\n      <th>0</th>\n      <td>13010</td>\n      <td>2022-07-20</td>\n      <td>3660.0</td>\n      <td>3660.0</td>\n      <td>3610.0</td>\n      <td>3630.0</td>\n      <td>18300.0</td>\n      <td>3630.0</td>\n    </tr>\n    <tr>\n      <th>0</th>\n      <td>13010</td>\n      <td>2022-07-21</td>\n      <td>3585.0</td>\n      <td>3645.0</td>\n      <td>3585.0</td>\n      <td>3645.0</td>\n      <td>10300.0</td>\n      <td>3645.0</td>\n    </tr>\n    <tr>\n      <th>0</th>\n      <td>13010</td>\n      <td>2022-07-22</td>\n      <td>3610.0</td>\n      <td>3635.0</td>\n      <td>3605.0</td>\n      <td>3620.0</td>\n      <td>10700.0</td>\n      <td>3620.0</td>\n    </tr>\n    <tr>\n      <th>0</th>\n      <td>13010</td>\n      <td>2022-07-25</td>\n      <td>3615.0</td>\n      <td>3660.0</td>\n      <td>3615.0</td>\n      <td>3630.0</td>\n      <td>8100.0</td>\n      <td>3630.0</td>\n    </tr>\n    <tr>\n      <th>...</th>\n      <td>...</td>\n      <td>...</td>\n      <td>...</td>\n      <td>...</td>\n      <td>...</td>\n      <td>...</td>\n      <td>...</td>\n      <td>...</td>\n    </tr>\n    <tr>\n      <th>4193</th>\n      <td>99970</td>\n      <td>2022-07-25</td>\n      <td>829.0</td>\n      <td>831.0</td>\n      <td>816.0</td>\n      <td>826.0</td>\n      <td>151200.0</td>\n      <td>826.0</td>\n    </tr>\n    <tr>\n      <th>4193</th>\n      <td>99970</td>\n      <td>2022-07-26</td>\n      <td>826.0</td>\n      <td>827.0</td>\n      <td>816.0</td>\n      <td>825.0</td>\n      <td>133600.0</td>\n      <td>825.0</td>\n    </tr>\n    <tr>\n      <th>4194</th>\n      <td>99970</td>\n      <td>2022-07-27</td>\n      <td>819.0</td>\n      <td>822.0</td>\n      <td>811.0</td>\n      <td>811.0</td>\n      <td>136500.0</td>\n      <td>811.0</td>\n    </tr>\n    <tr>\n      <th>4193</th>\n      <td>99970</td>\n      <td>2022-07-28</td>\n      <td>813.0</td>\n      <td>816.0</td>\n      <td>801.0</td>\n      <td>816.0</td>\n      <td>187300.0</td>\n      <td>816.0</td>\n    </tr>\n    <tr>\n      <th>4195</th>\n      <td>99970</td>\n      <td>2022-07-29</td>\n      <td>810.0</td>\n      <td>810.0</td>\n      <td>770.0</td>\n      <td>776.0</td>\n      <td>412900.0</td>\n      <td>776.0</td>\n    </tr>\n  </tbody>\n</table>\n<p>37751 rows × 8 columns</p>\n</div>"
     },
     "execution_count": 34,
     "metadata": {},
     "output_type": "execute_result"
    }
   ],
   "source": [
    "stock_price_output: pd.DataFrame = pd.DataFrame()\n",
    "stock_price_output[\"Local Code\"] = stock_price[\"Code\"]\n",
    "stock_price_output[\"Date\"] = stock_price[\"Date\"]\n",
    "stock_price_output[\"EndOfDayQuote Open\"] = stock_price[\"AdjustmentOpen\"].replace({0.0: np.nan})\n",
    "stock_price_output[\"EndOfDayQuote High\"] = stock_price[\"AdjustmentHigh\"].replace({0.0: np.nan})\n",
    "stock_price_output[\"EndOfDayQuote Low\"] = stock_price[\"AdjustmentLow\"].replace({0.0: np.nan})\n",
    "stock_price_output[\"EndOfDayQuote Close\"] = stock_price[\"AdjustmentClose\"].replace({0.0: np.nan})\n",
    "stock_price_output[\"EndOfDayQuote ExchangeOfficialClose\"] = stock_price[\"AdjustmentClose\"].replace({0.0: np.nan})\n",
    "stock_price_output[\"EndOfDayQuote Volume\"] = stock_price[\"AdjustmentVolume\"]\n",
    "stock_price_output.set_index(\"Date\").sort_index().groupby(\"Local Code\").ffill()\n",
    "\n",
    "stock_price_output"
   ],
   "metadata": {
    "collapsed": false,
    "pycharm": {
     "name": "#%%\n"
    }
   }
  },
  {
   "cell_type": "code",
   "execution_count": null,
   "outputs": [],
   "source": [
    "stock_fins_output: pd.DataFrame = pd.DataFrame()\n",
    "stock_fins_output[\"Result_FinancialStatement FiscalPeriodEnd\"] = stock_fins[\"CurrentFiscalYearEndDate\"]\n",
    "#stock_fins_output[\"Result_FinancialStatement TotalAssets\"] = stock_fins[\"TotalAssets\"]\n",
    "# stock_fins_output[\"Result_FinancialStatement NetAssets\"],  純資産. JquantsAPIでは今とれなさそう\n",
    "#stock_fins_output[\"Result_FinancialStatement NetSales\"] = stock_fins[\"NetSales\"]\n",
    "#stock_fins_output[\"Result_FinancialStatement OperatingIncome\"] = stock_fins[\"OperatingProfit\"]\n",
    "#stock_fins_output[\"Result_FinancialStatement OrdinaryIncome\"] = stock_fins[\"OrdinaryProfit\"]  # 経常利益\n",
    "#stock_fins_output[\"Result_FinancialStatement NetIncome\"] = stock_fins[\"Profit\"]  # 当期純利益\n",
    "\n",
    "#stock_fins_output"
   ],
   "metadata": {
    "collapsed": false,
    "pycharm": {
     "name": "#%%\n"
    }
   }
  },
  {
   "cell_type": "code",
   "execution_count": null,
   "outputs": [],
   "source": [],
   "metadata": {
    "collapsed": false,
    "pycharm": {
     "name": "#%%\n"
    }
   }
  }
 ],
 "metadata": {
  "kernelspec": {
   "display_name": "Python 3",
   "language": "python",
   "name": "python3"
  },
  "language_info": {
   "codemirror_mode": {
    "name": "ipython",
    "version": 2
   },
   "file_extension": ".py",
   "mimetype": "text/x-python",
   "name": "python",
   "nbconvert_exporter": "python",
   "pygments_lexer": "ipython2",
   "version": "2.7.6"
  }
 },
 "nbformat": 4,
 "nbformat_minor": 0
}